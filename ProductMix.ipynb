{
 "cells": [
  {
   "cell_type": "markdown",
   "metadata": {},
   "source": [
    "# Product Mix optimization"
   ]
  },
  {
   "cell_type": "markdown",
   "metadata": {},
   "source": [
    "## Load packages"
   ]
  },
  {
   "cell_type": "code",
   "execution_count": 1,
   "metadata": {},
   "outputs": [],
   "source": [
    "# Load packages\n",
    "from pulp import *"
   ]
  },
  {
   "cell_type": "markdown",
   "metadata": {},
   "source": [
    "## Mathematical model"
   ]
  },
  {
   "cell_type": "markdown",
   "metadata": {},
   "source": [
    "### Parameters"
   ]
  },
  {
   "cell_type": "markdown",
   "metadata": {},
   "source": [
    "- Ai = Maximum amount of smartphones i to be sold in the month\n",
    "- Bi = Sale price of smartphone of type i\n",
    "- Ci = Cost of smartphone components for smartphone type i\n",
    "- Di = Labour cost per hour for assembling smartphones of type i\n",
    "- Ei = Labour cost per hour for testing smartphones type i\n",
    "- F = Maximum number of assembling hours\n",
    "- G = Maximum number of testing hours\n",
    "- Hass,i = Amount of hours needed to assemble each smartphone type i\n",
    "- Htest,i = Amount of hours needed to test each smartphone type i"
   ]
  },
  {
   "cell_type": "markdown",
   "metadata": {},
   "source": [
    "### Variable to be optimized"
   ]
  },
  {
   "cell_type": "markdown",
   "metadata": {},
   "source": [
    "- Xi = Number of smartphones type i to be manufactured in the month"
   ]
  },
  {
   "cell_type": "markdown",
   "metadata": {},
   "source": [
    "### Restrictions"
   ]
  },
  {
   "cell_type": "markdown",
   "metadata": {},
   "source": [
    "- Number of smartphones manufactured cannot be negative\n",
    "- Total number of assembly hours cannot be higher than the number of labour hours available\n",
    "- Number of hours for testing cannot be higher than the number of labour hours available\n",
    "- Number of manufactured smartphones of a certain model cannot be higher that the maximum number of smartphones of that model that can should be sold in the month"
   ]
  },
  {
   "cell_type": "markdown",
   "metadata": {},
   "source": [
    "### Objective function"
   ]
  },
  {
   "cell_type": "markdown",
   "metadata": {},
   "source": [
    " $$ Profit = \\sum_{i=1}^{n} X_iB_i - \\sum_{i=1}^{n} X_iHass_iD_i -  \\sum_{i=1}^{n} X_iHtest_iE_i - \\sum_{i=1}^{n} X_iC_i$$"
   ]
  },
  {
   "cell_type": "markdown",
   "metadata": {},
   "source": [
    "## Modelling"
   ]
  },
  {
   "cell_type": "markdown",
   "metadata": {},
   "source": [
    "### Set values"
   ]
  },
  {
   "cell_type": "code",
   "execution_count": 2,
   "metadata": {},
   "outputs": [],
   "source": [
    "# Maximum amount of smartphones i to be sold in the month\n",
    "A1 = 600 \n",
    "A2 = 1200\n",
    "\n",
    "# Sale price of smartphone of type i\n",
    "B1 = 300\n",
    "B2 = 450\n",
    "\n",
    "# Cost of smartphone components for smartphone type i\n",
    "C1 = 150\n",
    "C2 = 225\n",
    "\n",
    "# Manpower cost per hour for assembling smartphones of type i\n",
    "D1 = 11\n",
    "D2 = 11\n",
    "\n",
    "# Manpower cost per hour for testing smartphones type i\n",
    "E1 = 15\n",
    "E2 = 15\n",
    "\n",
    "# Maximum number of assembling hours\n",
    "F = 10000\n",
    "\n",
    "# Maximum number of testing hours\n",
    "G = 3000\n",
    "\n",
    "# Amount of hours needed to assemble each smartphone type i\n",
    "Hass1 = 5\n",
    "Hass2 = 6\n",
    "\n",
    "# Amount of hours needed to test each smartphone type i\n",
    "Htest1 = 1\n",
    "Htest2 = 2"
   ]
  },
  {
   "cell_type": "markdown",
   "metadata": {},
   "source": [
    "### Create optimization variable"
   ]
  },
  {
   "cell_type": "code",
   "execution_count": 3,
   "metadata": {},
   "outputs": [
    {
     "data": {
      "text/plain": [
       "Optimization:\n",
       "MAXIMIZE\n",
       "None\n",
       "VARIABLES"
      ]
     },
     "execution_count": 3,
     "metadata": {},
     "output_type": "execute_result"
    }
   ],
   "source": [
    "opt = LpProblem('Optimization', LpMaximize)\n",
    "opt"
   ]
  },
  {
   "cell_type": "code",
   "execution_count": 4,
   "metadata": {},
   "outputs": [],
   "source": [
    "X1 = LpVariable('Model 1', 0, None, LpInteger)\n",
    "X2 = LpVariable('Model 2', 0, None, LpInteger)"
   ]
  },
  {
   "cell_type": "code",
   "execution_count": 5,
   "metadata": {},
   "outputs": [
    {
     "name": "stdout",
     "output_type": "stream",
     "text": [
      "Revenue:  300*Model_1 + 450*Model_2\n",
      "\n",
      "Assembly cost:  55*Model_1 + 66*Model_2\n",
      "\n",
      "Test cost:  15*Model_1 + 30*Model_2\n",
      "150*Model_1 + 225*Model_2\n",
      "\n",
      "Components cost:  150*Model_1 + 225*Model_2\n"
     ]
    }
   ],
   "source": [
    "# Revenue\n",
    "revenue = X1*B1 + X2*B2; print('Revenue: ',revenue)\n",
    "\n",
    "# Assembling cost\n",
    "ass_cost = X1*Hass1*D1 + X2*Hass2*D2; print('\\nAssembly cost: ',ass_cost)\n",
    "\n",
    "# Testing cost\n",
    "test_cost = X1*Htest1*E1 + X2*Htest2*E2; print('\\nTest cost: ',test_cost)\n",
    "\n",
    "# Components cost\n",
    "comp_cost = X1*C1 + X2*C2; print(comp_cost);print('\\nComponents cost: ',comp_cost)"
   ]
  },
  {
   "cell_type": "code",
   "execution_count": 6,
   "metadata": {},
   "outputs": [
    {
     "name": "stdout",
     "output_type": "stream",
     "text": [
      "\n",
      "Total:  Optimization:\n",
      "MAXIMIZE\n",
      "80*Model_1 + 129*Model_2 + 0\n",
      "VARIABLES\n",
      "0 <= Model_1 Integer\n",
      "0 <= Model_2 Integer\n",
      "\n"
     ]
    }
   ],
   "source": [
    "# Total\n",
    "opt += revenue - ass_cost - test_cost - comp_cost; print('\\nTotal: ', opt)"
   ]
  },
  {
   "cell_type": "markdown",
   "metadata": {},
   "source": [
    "### Implement restrictions"
   ]
  },
  {
   "cell_type": "code",
   "execution_count": 7,
   "metadata": {},
   "outputs": [],
   "source": [
    "# Number of smartphones manufactured cannot be negative\n",
    "opt += X1 <= A1,'Manufacturing less or equal to demand for X1'\n",
    "opt += X2 <= A2,'Manufacturing less or equal to demand for X2'\n",
    "\n",
    "# Number of hours for testing cannot be higher than the number of labour hours available\n",
    "opt += (X1 * Htest1) + (X2 * Htest2) <= G,'Maximum number of hours of testing'\n",
    "\n",
    "# Number of manufactured smartphones of a certain model cannot be higher that the maximum number of smartphones of that model that can should be sold in the month\n",
    "opt += (X1 * Hass1) + (X2 * Hass2) <= F,'Maximum number of hours of assembling'"
   ]
  },
  {
   "cell_type": "code",
   "execution_count": 8,
   "metadata": {},
   "outputs": [
    {
     "data": {
      "text/plain": [
       "Optimization:\n",
       "MAXIMIZE\n",
       "80*Model_1 + 129*Model_2 + 0\n",
       "SUBJECT TO\n",
       "Manufacturing_less_or_equal_to_demand_for_X1: Model_1 <= 600\n",
       "\n",
       "Manufacturing_less_or_equal_to_demand_for_X2: Model_2 <= 1200\n",
       "\n",
       "Maximum_number_of_hours_of_testing: Model_1 + 2 Model_2 <= 3000\n",
       "\n",
       "Maximum_number_of_hours_of_assembling: 5 Model_1 + 6 Model_2 <= 10000\n",
       "\n",
       "VARIABLES\n",
       "0 <= Model_1 Integer\n",
       "0 <= Model_2 Integer"
      ]
     },
     "execution_count": 8,
     "metadata": {},
     "output_type": "execute_result"
    }
   ],
   "source": [
    "opt"
   ]
  },
  {
   "cell_type": "markdown",
   "metadata": {},
   "source": [
    "## Solving the optimization problem"
   ]
  },
  {
   "cell_type": "code",
   "execution_count": 9,
   "metadata": {},
   "outputs": [
    {
     "data": {
      "text/plain": [
       "1"
      ]
     },
     "execution_count": 9,
     "metadata": {},
     "output_type": "execute_result"
    }
   ],
   "source": [
    "opt.solve()"
   ]
  },
  {
   "cell_type": "code",
   "execution_count": 10,
   "metadata": {},
   "outputs": [
    {
     "name": "stdout",
     "output_type": "stream",
     "text": [
      "Maximized profit that can be achieved: 199600.0\n",
      "Model 1: 560.0 units should be manufactured.\n",
      "Model 2: 1200.0 units should be manufactured.\n"
     ]
    }
   ],
   "source": [
    "# Profit\n",
    "print('Maximized profit that can be achieved: {}'.format(value(opt.objective)))\n",
    "# Item 1 to be manufactured\n",
    "print('Model 1: {} units should be manufactured.' .format(opt.variables()[0].varValue))\n",
    "# Item 2 to be manufactured\n",
    "print('Model 2: {} units should be manufactured.' .format(opt.variables()[1].varValue))"
   ]
  }
 ],
 "metadata": {
  "hide_input": false,
  "kernelspec": {
   "display_name": "Python 3.7.0 64-bit ('p370': conda)",
   "language": "python",
   "name": "python37064bitp370conda041c37553d6042c2a4f370f67bdb8a9c"
  },
  "language_info": {
   "codemirror_mode": {
    "name": "ipython",
    "version": 3
   },
   "file_extension": ".py",
   "mimetype": "text/x-python",
   "name": "python",
   "nbconvert_exporter": "python",
   "pygments_lexer": "ipython3",
   "version": "3.7.0"
  },
  "toc": {
   "base_numbering": 1,
   "nav_menu": {},
   "number_sections": true,
   "sideBar": true,
   "skip_h1_title": false,
   "title_cell": "Table of Contents",
   "title_sidebar": "Contents",
   "toc_cell": false,
   "toc_position": {},
   "toc_section_display": true,
   "toc_window_display": false
  },
  "varInspector": {
   "cols": {
    "lenName": 16,
    "lenType": 16,
    "lenVar": 40
   },
   "kernels_config": {
    "python": {
     "delete_cmd_postfix": "",
     "delete_cmd_prefix": "del ",
     "library": "var_list.py",
     "varRefreshCmd": "print(var_dic_list())"
    },
    "r": {
     "delete_cmd_postfix": ") ",
     "delete_cmd_prefix": "rm(",
     "library": "var_list.r",
     "varRefreshCmd": "cat(var_dic_list()) "
    }
   },
   "types_to_exclude": [
    "module",
    "function",
    "builtin_function_or_method",
    "instance",
    "_Feature"
   ],
   "window_display": false
  }
 },
 "nbformat": 4,
 "nbformat_minor": 4
}
